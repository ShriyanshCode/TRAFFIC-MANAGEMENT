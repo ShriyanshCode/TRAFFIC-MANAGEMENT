{
 "cells": [
  {
   "cell_type": "code",
   "execution_count": null,
   "id": "2312c14e",
   "metadata": {},
   "outputs": [
    {
     "name": "stdout",
     "output_type": "stream",
     "text": [
      "A: min=129.56  median=2278.08  avg=2510.92  max=12733.97\n",
      "B: min=131.25  median=2358.70  avg=2611.06  max=8817.91\n",
      "C: min=85.37  median=3276.83  avg=4515.41  max=16113.41\n",
      "D: min=139.02  median=808.38  avg=3195.81  max=12585.51\n",
      "ALL: min=85.37  median=2275.66  avg=3472.45  max=16113.41\n"
     ]
    }
   ],
   "source": [
    "import statistics\n",
    "\n",
    "def compute_stats(values):\n",
    "    return {\n",
    "        'min':   min(values),\n",
    "        'median': statistics.median(values),\n",
    "        'avg':   statistics.mean(values),\n",
    "        'max':   max(values),\n",
    "    }\n",
    "\n",
    "def main(logfile='bbox_areas.txt'):\n",
    "    cats = {k: [] for k in ('A','B','C','D')}\n",
    "    all_vals = []\n",
    "\n",
    "    with open(logfile, 'r') as f:\n",
    "        for line in f:\n",
    "            line = line.strip()\n",
    "            if not line:\n",
    "                continue\n",
    "            road, area = line.split(',', 1)\n",
    "            area = float(area)\n",
    "            if road in cats:\n",
    "                cats[road].append(area)\n",
    "            all_vals.append(area)\n",
    "    results = {}\n",
    "    for road, vals in cats.items():\n",
    "        if vals:\n",
    "            results[road] = compute_stats(vals)\n",
    "        else:\n",
    "            results[road] = {'min': None, 'median': None, 'avg': None, 'max': None}\n",
    "\n",
    "    if all_vals:\n",
    "        results['ALL'] = compute_stats(all_vals)\n",
    "    else:\n",
    "        results['ALL'] = {'min': None, 'median': None, 'avg': None, 'max': None}\n",
    "    for group, stats in results.items():\n",
    "        print(f\"{group}: \"\n",
    "              f\"min={stats['min']:.2f}  \"\n",
    "              f\"median={stats['median']:.2f}  \"\n",
    "              f\"avg={stats['avg']:.2f}  \"\n",
    "              f\"max={stats['max']:.2f}\")\n",
    "\n",
    "if __name__ == '__main__':\n",
    "    main()\n"
   ]
  },
  {
   "cell_type": "code",
   "execution_count": null,
   "id": "dc36cf86",
   "metadata": {},
   "outputs": [],
   "source": []
  }
 ],
 "metadata": {
  "kernelspec": {
   "display_name": "vcuda",
   "language": "python",
   "name": "python3"
  },
  "language_info": {
   "codemirror_mode": {
    "name": "ipython",
    "version": 3
   },
   "file_extension": ".py",
   "mimetype": "text/x-python",
   "name": "python",
   "nbconvert_exporter": "python",
   "pygments_lexer": "ipython3",
   "version": "3.12.7"
  }
 },
 "nbformat": 4,
 "nbformat_minor": 5
}
